{
  "nbformat": 4,
  "nbformat_minor": 0,
  "metadata": {
    "colab": {
      "name": "Media Bias Detection.ipynb",
      "provenance": [],
      "collapsed_sections": [],
      "authorship_tag": "ABX9TyNjSCOzL1Q2BzsjwOFKD8uQ",
      "include_colab_link": true
    },
    "kernelspec": {
      "name": "python3",
      "display_name": "Python 3"
    },
    "language_info": {
      "name": "python"
    }
  },
  "cells": [
    {
      "cell_type": "markdown",
      "metadata": {
        "id": "view-in-github",
        "colab_type": "text"
      },
      "source": [
        "<a href=\"https://colab.research.google.com/github/KhushiSingla-tech/News-analysis/blob/main/Media_Bias_Detection.ipynb\" target=\"_parent\"><img src=\"https://colab.research.google.com/assets/colab-badge.svg\" alt=\"Open In Colab\"/></a>"
      ]
    },
    {
      "cell_type": "code",
      "metadata": {
        "colab": {
          "base_uri": "https://localhost:8080/"
        },
        "id": "3NjAVnhdUF1k",
        "outputId": "90cdb172-5d95-4f66-b570-8202cee98a2d"
      },
      "source": [
        "from textblob import TextBlob\n",
        "\n",
        "news_story = \"Indian wrestler Ravi Dahiya has become the second Indian wrestler, after Sushil Kumar, to win an Olympic silver medal. That after he lost the gold medal match on Thursday 4-7 against a Russian wrestler. Ravi had earlier made his way to the men's freestyle 57kg semi-final with two huge wins in the 1/8 and 1/4 finals, first beating a Colombian wrestler 13-2 and then getting the better of a Bulgarian wrestler 14-4.\"\n",
        "\n",
        "def find_sentiment(story):\n",
        "  news = TextBlob(story)\n",
        "  sentiments = []\n",
        "  for sentence in news.sentences:\n",
        "    # print(str(sentence))\n",
        "    # print(sentence.sentiment)\n",
        "    sentiment = sentence.sentiment\n",
        "    for metric in sentiment:\n",
        "      sentiments.append(metric)\n",
        "\n",
        "  # print(sentiments)\n",
        "\n",
        "  polarity_data = []\n",
        "  subjectivity_data = []\n",
        "  for i in range(len(sentiments)):\n",
        "    if i % 2 == 0:\n",
        "      polarity_data.append(sentiments[i])\n",
        "    else:\n",
        "      subjectivity_data.append(sentiments[i]) \n",
        "\n",
        "  # print(polarity_data)\n",
        "  # print(subjectivity_data) \n",
        "\n",
        "  polaverage = cal_average(polarity_data)\n",
        "  subaverage = cal_average(subjectivity_data) \n",
        "\n",
        "  # print(polaverage)\n",
        "  # print(subaverage)\n",
        "\n",
        "  print()\n",
        "  print(\"FINAL ANALYSIS\")\n",
        "  print(\"----------------------------------\")\n",
        "  print(\"Polarity: \" + cal_sentiment(polaverage, \"polarity\"))\n",
        "  print(\"Subjectivity: \" + cal_sentiment(subaverage, \"subjectivity\"))\n",
        "\n",
        "def cal_average(list):\n",
        "  return sum(list) / len(list)\n",
        "\n",
        "def cal_sentiment(sentiment, stype):\n",
        "  category = \"\"\n",
        "  if stype == \"polarity\":\n",
        "        if sentiment > 0.75:\n",
        "            category = \"Extremely positive.\"\n",
        "        elif sentiment > 0.5:\n",
        "            category = \"Significantly positive.\"\n",
        "        elif sentiment > 0.3:\n",
        "            category = \"Fairly positive.\"\n",
        "        elif sentiment > 0.1:\n",
        "            category = \"Slightly positive.\"\n",
        "        elif sentiment < -0.1:\n",
        "            category = \"Slightly negative.\"\n",
        "        elif sentiment < -0.3:\n",
        "            category = \"Fairly negative.\"\n",
        "        elif sentiment < -0.5:\n",
        "            category = \"Significantly negative.\"\n",
        "        elif sentiment < -0.75:\n",
        "            category = \"Extremely negative.\"\n",
        "        else:\n",
        "            category = \"Neutral.\"\n",
        "        return category\n",
        "  elif stype == \"subjectivity\":\n",
        "        if sentiment > 0.75:\n",
        "            category = \"Extremely subjective.\"\n",
        "        elif sentiment > 0.5:\n",
        "            category = \"Fairly subjective.\"\n",
        "        elif sentiment > 0.3:\n",
        "            category = \"Fairly objective.\"\n",
        "        elif sentiment > 0.1:\n",
        "            category = \"Extremely objective.\"\n",
        "        return category\n",
        "  else:\n",
        "        print(\"Invalid Input.\")\n",
        "\n",
        "find_sentiment(news_story)"
      ],
      "execution_count": 30,
      "outputs": [
        {
          "output_type": "stream",
          "text": [
            "\n",
            "FINAL ANALYSIS\n",
            "----------------------------------\n",
            "Polarity: Slightly positive.\n",
            "Subjectivity: Extremely objective.\n"
          ],
          "name": "stdout"
        }
      ]
    },
    {
      "cell_type": "code",
      "metadata": {
        "colab": {
          "base_uri": "https://localhost:8080/"
        },
        "id": "2i3QKx0-WF8h",
        "outputId": "b7642096-b81d-403b-cd87-bda39b2b3318"
      },
      "source": [
        "import nltk\n",
        "nltk.download('punkt')"
      ],
      "execution_count": 31,
      "outputs": [
        {
          "output_type": "stream",
          "text": [
            "[nltk_data] Downloading package punkt to /root/nltk_data...\n",
            "[nltk_data]   Package punkt is already up-to-date!\n"
          ],
          "name": "stdout"
        },
        {
          "output_type": "execute_result",
          "data": {
            "text/plain": [
              "True"
            ]
          },
          "metadata": {
            "tags": []
          },
          "execution_count": 31
        }
      ]
    }
  ]
}